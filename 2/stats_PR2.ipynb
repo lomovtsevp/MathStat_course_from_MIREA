{
  "nbformat": 4,
  "nbformat_minor": 0,
  "metadata": {
    "colab": {
      "name": "stats_PR2.ipynb",
      "provenance": [],
      "collapsed_sections": [],
      "mount_file_id": "1pDJY_ljrJ6E2ncBhoCLbzko8l7rY3cdY",
      "authorship_tag": "ABX9TyMrKy1rOCPNDdFlxK0mBCPx",
      "include_colab_link": true
    },
    "kernelspec": {
      "name": "python3",
      "display_name": "Python 3"
    },
    "language_info": {
      "name": "python"
    }
  },
  "cells": [
    {
      "cell_type": "markdown",
      "metadata": {
        "id": "view-in-github",
        "colab_type": "text"
      },
      "source": [
        "<a href=\"https://colab.research.google.com/github/lompas10/MathStat_course_from_MIREA/blob/main/2/stats_PR2.ipynb\" target=\"_parent\"><img src=\"https://colab.research.google.com/assets/colab-badge.svg\" alt=\"Open In Colab\"/></a>"
      ]
    },
    {
      "cell_type": "code",
      "metadata": {
        "id": "6fTttJErq6aM"
      },
      "source": [
        "import pandas as pd\n",
        "import numpy as np"
      ],
      "execution_count": null,
      "outputs": []
    },
    {
      "cell_type": "code",
      "metadata": {
        "id": "r7hRO9W9rSxm"
      },
      "source": [
        "data_1 = pd.read_csv('1.txt', header=None)\n",
        "data_2 = pd.read_csv('2.txt', header=None)\n",
        "data_3 = pd.read_csv('3.txt', header=None)\n",
        "data_4 = pd.read_csv('4.txt', header=None)"
      ],
      "execution_count": null,
      "outputs": []
    },
    {
      "cell_type": "code",
      "metadata": {
        "id": "B0Tw11Jruubn"
      },
      "source": [
        "def confidence_interval_95_percent_MX_normal(data):\n",
        "  n = len(data)\n",
        "  MX = np.mean(data)\n",
        "  sigma = np.std(data)\n",
        "  x_gamma = 1.96 #таблица\n",
        "  delta = sigma * x_gamma / np.sqrt(n)\n",
        "  return (MX - delta, MX + delta)"
      ],
      "execution_count": null,
      "outputs": []
    },
    {
      "cell_type": "code",
      "metadata": {
        "id": "q4PGptENQKd9"
      },
      "source": [
        "def confidence_interval_95_percent_MX_T(data):\n",
        "  n = len(data)\n",
        "  MX = np.mean(data)\n",
        "  s = np.sqrt(n / (n - 1) * np.var(data))\n",
        "  if len(data) > 50:\n",
        "    t_gamma = 1.98\n",
        "  else:\n",
        "    t_gamma = 2.26\n",
        "  delta = t_gamma * s / np.sqrt(len(data))\n",
        "  return ((MX - delta, MX + delta)) "
      ],
      "execution_count": null,
      "outputs": []
    },
    {
      "cell_type": "code",
      "metadata": {
        "id": "2k2k-JM9Z_2C"
      },
      "source": [
        "def confidence_intreval_95_percent_std(data):\n",
        "  n = len(data)\n",
        "  if len(data) > 50:\n",
        "    chisq_left = 74.22\n",
        "    chisq_right = 129.56\n",
        "  else:\n",
        "    chisq_left = 2.7\n",
        "    chisq_right = 19.02\n",
        "  s = np.sqrt(n / (n - 1) * np.var(data))\n",
        "  left = np.sqrt((n - 1) / chisq_left) * s\n",
        "  right = np.sqrt((n - 1) / chisq_right) * s\n",
        "  return (right, left) "
      ],
      "execution_count": null,
      "outputs": []
    },
    {
      "cell_type": "code",
      "metadata": {
        "colab": {
          "base_uri": "https://localhost:8080/"
        },
        "id": "H32Fw29IrVop",
        "outputId": "0410abd9-0c66-454f-b552-ed5e86316312"
      },
      "source": [
        "datas = [data_1, data_2, data_3, data_4]\n",
        "for data in range(len(datas)):\n",
        "  print(f'{data + 1} файл')\n",
        "  MX = np.mean(datas[data][0])\n",
        "  sigma = np.std(datas[data][0])\n",
        "  print(f'Точечные оценки мат. ожидания и среднекватратического отклонения равны соответственно:\\nMX = {MX}\\nsigma = {sigma}\\nДоверительный интервал для математического ожидания с помощью нормального распределения: {confidence_interval_95_percent_MX_normal(datas[data][0])}\\nДоверительный интервал для математического ожидания с помощью T-распределения Стьюдента: {confidence_interval_95_percent_MX_T(datas[data][0])}\\nДоверительный интервал для стандартного отклонения: {confidence_intreval_95_percent_std(datas[data][0])}\\n________________________________________________________________________________________\\n')"
      ],
      "execution_count": null,
      "outputs": [
        {
          "output_type": "stream",
          "name": "stdout",
          "text": [
            "1 файл\n",
            "Точечные оценки мат. ожидания и среднекватратического отклонения равны соответственно:\n",
            "MX = 39.95862193875312\n",
            "sigma = 4.3908198903189115\n",
            "Доверительный интервал для математического ожидания с помощью нормального распределения: (39.09802124025061, 40.81922263725563)\n",
            "Доверительный интервал для математического ожидания с помощью T-распределения Стьюдента: (39.08485981286008, 40.832384064646156)\n",
            "Доверительный интервал для стандартного отклонения: (3.8575374696491243, 5.096653959288701)\n",
            "________________________________________________________________________________________\n",
            "\n",
            "2 файл\n",
            "Точечные оценки мат. ожидания и среднекватратического отклонения равны соответственно:\n",
            "MX = 25.380779890772125\n",
            "sigma = 9.161025679380407\n",
            "Доверительный интервал для математического ожидания с помощью нормального распределения: (19.702717348145956, 31.058842433398294)\n",
            "Доверительный интервал для математического ожидания с помощью T-распределения Стьюдента: (18.479473878972218, 32.28208590257203)\n",
            "Доверительный интервал для стандартного отклонения: (6.642611365338872, 17.630402140144508)\n",
            "________________________________________________________________________________________\n",
            "\n",
            "3 файл\n",
            "Точечные оценки мат. ожидания и среднекватратического отклонения равны соответственно:\n",
            "MX = 55.06523558389949\n",
            "sigma = 7.46878419887983\n",
            "Доверительный интервал для математического ожидания с помощью нормального распределения: (53.60135388091904, 56.52911728687993)\n",
            "Доверительный интервал для математического ожидания с помощью T-распределения Стьюдента: (53.57896629423031, 56.55150487356866)\n",
            "Доверительный интервал для стандартного отклонения: (6.561670854098658, 8.669407880342138)\n",
            "________________________________________________________________________________________\n",
            "\n",
            "4 файл\n",
            "Точечные оценки мат. ожидания и среднекватратического отклонения равны соответственно:\n",
            "MX = 34.99214999925759\n",
            "sigma = 1.8564687173906045\n",
            "Доверительный интервал для математического ожидания с помощью нормального распределения: (33.841498767103666, 36.14280123141152)\n",
            "Доверительный интервал для математического ожидания с помощью T-распределения Стьюдента: (33.59361023215667, 36.39068976635851)\n",
            "Доверительный интервал для стандартного отклонения: (1.3461156679531272, 3.5727757124252824)\n",
            "________________________________________________________________________________________\n",
            "\n"
          ]
        }
      ]
    },
    {
      "cell_type": "code",
      "metadata": {
        "id": "PZZ2zncwOIjt"
      },
      "source": [
        "#REAL DATA\n",
        "# 1 MX = 40.12, sigma = 4.52\n",
        "#2 MX = 28.24, sigma = 8.5\n",
        "#3 Mx = 55.3, sigma = 7.58,\n",
        "#4 MX = 33.9, sigma = 2.4\n"
      ],
      "execution_count": null,
      "outputs": []
    }
  ]
}