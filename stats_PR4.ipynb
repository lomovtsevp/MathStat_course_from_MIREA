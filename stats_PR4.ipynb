{
  "nbformat": 4,
  "nbformat_minor": 0,
  "metadata": {
    "colab": {
      "name": "stats_PR4.ipynb",
      "provenance": [],
      "collapsed_sections": [],
      "authorship_tag": "ABX9TyNRMiC2c+T2/nlauO4L6bEz",
      "include_colab_link": true
    },
    "kernelspec": {
      "name": "python3",
      "display_name": "Python 3"
    },
    "language_info": {
      "name": "python"
    }
  },
  "cells": [
    {
      "cell_type": "markdown",
      "metadata": {
        "id": "view-in-github",
        "colab_type": "text"
      },
      "source": [
        "<a href=\"https://colab.research.google.com/github/lompas10/MathStat_course_from_MIREA/blob/main/stats_PR4.ipynb\" target=\"_parent\"><img src=\"https://colab.research.google.com/assets/colab-badge.svg\" alt=\"Open In Colab\"/></a>"
      ]
    },
    {
      "cell_type": "code",
      "metadata": {
        "colab": {
          "base_uri": "https://localhost:8080/"
        },
        "id": "m0izol28N9Zy",
        "outputId": "72ab2ead-b53d-4e25-f2fe-757ae2ef87d3"
      },
      "source": [
        "import pandas as pd\n",
        "!pip install --upgrade scipy\n",
        "import scipy\n",
        "from sklearn.linear_model import LinearRegression\n",
        "import numpy as np\n",
        "import matplotlib.pyplot as plt\n"
      ],
      "execution_count": 125,
      "outputs": [
        {
          "output_type": "stream",
          "name": "stdout",
          "text": [
            "Requirement already satisfied: scipy in /usr/local/lib/python3.7/dist-packages (1.7.1)\n",
            "Requirement already satisfied: numpy<1.23.0,>=1.16.5 in /usr/local/lib/python3.7/dist-packages (from scipy) (1.19.5)\n"
          ]
        }
      ]
    },
    {
      "cell_type": "code",
      "metadata": {
        "id": "2JnCtXeGOTgf"
      },
      "source": [
        "data_1 = pd.read_csv('/content/1.txt', header=None)\n",
        "data_2 = pd.read_csv('/content/2.txt', header=None)\n",
        "data_3 = pd.read_csv('/content/3.txt', header=None)\n",
        "\n",
        "data = [data_1, data_2, data_3]"
      ],
      "execution_count": 126,
      "outputs": []
    },
    {
      "cell_type": "code",
      "metadata": {
        "colab": {
          "base_uri": "https://localhost:8080/"
        },
        "id": "AAdK3mEFOqtq",
        "outputId": "edf7b0c3-ef17-4a9f-b14b-a091c072ed3a"
      },
      "source": [
        "for datas in data:\n",
        "  print(datas.shape)"
      ],
      "execution_count": 127,
      "outputs": [
        {
          "output_type": "stream",
          "name": "stdout",
          "text": [
            "(100, 2)\n",
            "(200, 4)\n",
            "(100, 2)\n"
          ]
        }
      ]
    },
    {
      "cell_type": "code",
      "metadata": {
        "id": "CS12T8ctbcTr"
      },
      "source": [
        "def t_criteria(data):\n",
        "  if data.shape[0] == 100:\n",
        "    return 1.9842169515086827\n",
        "  else:\n",
        "    return 1.971956544249395"
      ],
      "execution_count": 128,
      "outputs": []
    },
    {
      "cell_type": "code",
      "metadata": {
        "id": "1NnbFOwGb3BL"
      },
      "source": [
        "def importance(t_red, t_crit):\n",
        "  if t_red > t_crit:\n",
        "    return 'значим'\n",
        "  else:\n",
        "    return 'не значим'"
      ],
      "execution_count": 129,
      "outputs": []
    },
    {
      "cell_type": "code",
      "metadata": {
        "id": "MFpZV6Vjh1m1"
      },
      "source": [
        "def fisher_criteria(r2):\n",
        "  return r2 / (1 - r2) * (len(data_1) - 2)"
      ],
      "execution_count": 130,
      "outputs": []
    },
    {
      "cell_type": "markdown",
      "metadata": {
        "id": "9xYnmmEMaHdB"
      },
      "source": [
        "1. Доверительный интервал для параметров регрессии"
      ]
    },
    {
      "cell_type": "code",
      "metadata": {
        "colab": {
          "base_uri": "https://localhost:8080/"
        },
        "id": "DUsuvu90OtCy",
        "outputId": "d700fb54-ef52-43c0-818f-838a00ce46b3"
      },
      "source": [
        "import scipy.stats as sps\n",
        "\n",
        "n = len(data_1[0])\n",
        "lin_model = sps.linregress(data_1[0], data_1[1])\n",
        "a,b = lin_model.slope, lin_model.intercept\n",
        "# оценка ср.кв. ошибки для a и b\n",
        "a_err, b_err = lin_model.stderr, lin_model.intercept_stderr\n",
        "# Доверительный интервал для alpha=5%\n",
        "a_conf = sps.t.interval(0.95, df = n-2, loc=a, scale=a_err)\n",
        "b_conf = sps.t.interval(0.95, df = n-2, loc=b, scale=b_err)\n",
        "\n",
        "fisher_crit = 254.32\n",
        "\n",
        "t_res_1 = np.abs(a / a_err) \n",
        "t_res_2 = np.abs(b / b_err)\n",
        "print('Работа с файлом 1:')\n",
        "print(f\"a = {a:0.4f}, α=5% [{a_conf[0]:0.4f} - {a_conf[1]:0.4f}], {importance(t_res_1, t_criteria(data_1[0]))}\")\n",
        "print(f\"b = {b:0.4f}, α=5% [{b_conf[0]:0.4f} - {b_conf[1]:0.4f}], {importance(t_res_2, t_criteria(data_1[0]))}\")\n",
        "\n",
        "print(f'Посчитанное F-значение: {fisher_criteria(lin_model.rvalue ** 2)}\\nКритическое значение: {fisher_crit}\\nУравнение адекватно.')"
      ],
      "execution_count": 131,
      "outputs": [
        {
          "output_type": "stream",
          "name": "stdout",
          "text": [
            "Работа с файлом 1:\n",
            "a = 1.1801, α=5% [1.1407 - 1.2195], значим\n",
            "b = -0.3720, α=5% [-1.0056 - 0.2617], не значим\n",
            "Посчитанное F-значение: 3537.82747449589\n",
            "Критическое значение: 254.32\n",
            "Уравнение адекватно.\n"
          ]
        }
      ]
    },
    {
      "cell_type": "code",
      "metadata": {
        "colab": {
          "base_uri": "https://localhost:8080/",
          "height": 350
        },
        "id": "-NKdCTxVdLEr",
        "outputId": "5aee770e-ab21-4163-c790-e4a58919106e"
      },
      "source": [
        "import seaborn as sns\n",
        "sns.regplot(data_1[0], data_1[1], color='red')"
      ],
      "execution_count": 132,
      "outputs": [
        {
          "output_type": "stream",
          "name": "stderr",
          "text": [
            "/usr/local/lib/python3.7/dist-packages/seaborn/_decorators.py:43: FutureWarning: Pass the following variables as keyword args: x, y. From version 0.12, the only valid positional argument will be `data`, and passing other arguments without an explicit keyword will result in an error or misinterpretation.\n",
            "  FutureWarning\n"
          ]
        },
        {
          "output_type": "execute_result",
          "data": {
            "text/plain": [
              "<matplotlib.axes._subplots.AxesSubplot at 0x7eff266a6ed0>"
            ]
          },
          "metadata": {},
          "execution_count": 132
        },
        {
          "output_type": "display_data",
          "data": {
            "image/png": "[encoded data removed]",
            "text/plain": [
              "<Figure size 432x288 with 1 Axes>"
            ]
          },
          "metadata": {
            "needs_background": "light"
          }
        }
      ]
    },
    {
      "cell_type": "markdown",
      "metadata": {
        "id": "xG6CQnUiibOy"
      },
      "source": [
        "Файл 2."
      ]
    },
    {
      "cell_type": "code",
      "metadata": {
        "colab": {
          "base_uri": "https://localhost:8080/"
        },
        "id": "6nl0fh_ZiaCz",
        "outputId": "f01403f1-8210-4a14-f0d7-1f4178debfa0"
      },
      "source": [
        "!pip install chowtest\n",
        "from chow_test import chowtest"
      ],
      "execution_count": 133,
      "outputs": [
        {
          "output_type": "stream",
          "name": "stdout",
          "text": [
            "Requirement already satisfied: chowtest in /usr/local/lib/python3.7/dist-packages (0.1.3)\n",
            "Requirement already satisfied: pandas in /usr/local/lib/python3.7/dist-packages (from chowtest) (1.1.5)\n",
            "Requirement already satisfied: numpy in /usr/local/lib/python3.7/dist-packages (from chowtest) (1.19.5)\n",
            "Requirement already satisfied: scipy in /usr/local/lib/python3.7/dist-packages (from chowtest) (1.7.1)\n",
            "Requirement already satisfied: sklearn in /usr/local/lib/python3.7/dist-packages (from chowtest) (0.0)\n",
            "Requirement already satisfied: pytz>=2017.2 in /usr/local/lib/python3.7/dist-packages (from pandas->chowtest) (2018.9)\n",
            "Requirement already satisfied: python-dateutil>=2.7.3 in /usr/local/lib/python3.7/dist-packages (from pandas->chowtest) (2.8.2)\n",
            "Requirement already satisfied: six>=1.5 in /usr/local/lib/python3.7/dist-packages (from python-dateutil>=2.7.3->pandas->chowtest) (1.15.0)\n",
            "Requirement already satisfied: scikit-learn in /usr/local/lib/python3.7/dist-packages (from sklearn->chowtest) (0.22.2.post1)\n",
            "Requirement already satisfied: joblib>=0.11 in /usr/local/lib/python3.7/dist-packages (from scikit-learn->sklearn->chowtest) (1.0.1)\n"
          ]
        }
      ]
    },
    {
      "cell_type": "code",
      "metadata": {
        "id": "x1bQNVdUmtoa"
      },
      "source": [
        "data_2.columns = ['col' + str(i) for i in range(len(data_2.columns))]"
      ],
      "execution_count": 134,
      "outputs": []
    },
    {
      "cell_type": "code",
      "metadata": {
        "id": "u6I_WGj-nusU"
      },
      "source": [
        "def chow(data):\n",
        "  lr = LinearRegression()\n",
        "  lr.fit(data[['col0', 'col1', 'col2']], data['col3'])\n",
        "\n",
        "  data_1 = data[data['col1'] == 1]\n",
        "  data_2 = data[data['col1'] == 0]\n",
        "\n",
        "  lr1 = LinearRegression()\n",
        "  lr2 = LinearRegression()\n",
        "\n",
        "  RSS = sum((lr.predict(data[['col0', 'col1', 'col2']]) - data['col3']) ** 2)\n",
        "\n",
        "  lr1.fit(data_1[['col0', 'col1', 'col2']], data_1['col3'])\n",
        "  lr2.fit(data_2[['col0', 'col1', 'col2']], data_2['col3'])\n",
        "\n",
        "  RSS1 = sum((lr1.predict(data_1[['col0', 'col1', 'col2']]) - data_1['col3']) ** 2) \n",
        "  RSS2 = sum((lr2.predict(data_2[['col0', 'col1', 'col2']]) - data_2['col3']) ** 2)\n",
        "\n",
        "  F_val = ((RSS - RSS1 - RSS2) / 2) / ((RSS1 + RSS2) / (len(data['col1']) - 2 * 2))\n",
        "\n",
        "  sns.regplot(data_1['col0'], data_1['col3'])\n",
        "  sns.regplot(data_2['col0'], data_2['col3'])\n",
        "\n",
        "  return F_val"
      ],
      "execution_count": 135,
      "outputs": []
    },
    {
      "cell_type": "code",
      "metadata": {
        "colab": {
          "base_uri": "https://localhost:8080/"
        },
        "id": "IdYRhqcfmSNW",
        "outputId": "48d4a527-0f52-4c45-d194-2e86fa2a4db4"
      },
      "source": [
        "lr = LinearRegression()\n",
        "lr.fit(data_2[['col0', 'col1', 'col2']], data_2['col3'])\n",
        "\n",
        "sum((lr.predict(data_2[['col0', 'col1', 'col2']]) - data_2['col3']) ** 2)"
      ],
      "execution_count": 136,
      "outputs": [
        {
          "output_type": "execute_result",
          "data": {
            "text/plain": [
              "18723.19534168597"
            ]
          },
          "metadata": {},
          "execution_count": 136
        }
      ]
    },
    {
      "cell_type": "code",
      "metadata": {
        "colab": {
          "base_uri": "https://localhost:8080/",
          "height": 383
        },
        "id": "X2vF8B3pmxIo",
        "outputId": "d7a2f92a-c5f6-47b3-8d13-c57512ed3586"
      },
      "source": [
        "chow(data_2)"
      ],
      "execution_count": 137,
      "outputs": [
        {
          "output_type": "stream",
          "name": "stderr",
          "text": [
            "/usr/local/lib/python3.7/dist-packages/seaborn/_decorators.py:43: FutureWarning: Pass the following variables as keyword args: x, y. From version 0.12, the only valid positional argument will be `data`, and passing other arguments without an explicit keyword will result in an error or misinterpretation.\n",
            "  FutureWarning\n",
            "/usr/local/lib/python3.7/dist-packages/seaborn/_decorators.py:43: FutureWarning: Pass the following variables as keyword args: x, y. From version 0.12, the only valid positional argument will be `data`, and passing other arguments without an explicit keyword will result in an error or misinterpretation.\n",
            "  FutureWarning\n"
          ]
        },
        {
          "output_type": "execute_result",
          "data": {
            "text/plain": [
              "2099.341784289353"
            ]
          },
          "metadata": {},
          "execution_count": 137
        },
        {
          "output_type": "display_data",
          "data": {
            "image/png": "[encoded data removed]",
            "text/plain": [
              "<Figure size 432x288 with 1 Axes>"
            ]
          },
          "metadata": {
            "needs_background": "light"
          }
        }
      ]
    },
    {
      "cell_type": "code",
      "metadata": {
        "colab": {
          "base_uri": "https://localhost:8080/",
          "height": 434
        },
        "id": "JHJZY8VdWacr",
        "outputId": "47309f99-6f3a-4153-c806-1426855ca3a3"
      },
      "source": [
        "print(f'Разбиение по переменной 2\\nПолученное F-значение: {chow(data_2)}\\nКритическое значение: 5.63\\nСтруктурных сдвигов нет.')"
      ],
      "execution_count": 138,
      "outputs": [
        {
          "output_type": "stream",
          "name": "stderr",
          "text": [
            "/usr/local/lib/python3.7/dist-packages/seaborn/_decorators.py:43: FutureWarning: Pass the following variables as keyword args: x, y. From version 0.12, the only valid positional argument will be `data`, and passing other arguments without an explicit keyword will result in an error or misinterpretation.\n",
            "  FutureWarning\n",
            "/usr/local/lib/python3.7/dist-packages/seaborn/_decorators.py:43: FutureWarning: Pass the following variables as keyword args: x, y. From version 0.12, the only valid positional argument will be `data`, and passing other arguments without an explicit keyword will result in an error or misinterpretation.\n",
            "  FutureWarning\n"
          ]
        },
        {
          "output_type": "stream",
          "name": "stdout",
          "text": [
            "Разбиение по переменной 2\n",
            "Полученное F-значение: 2099.341784289353\n",
            "Критическое значение: 5.63\n",
            "Структурных сдвигов нет.\n"
          ]
        },
        {
          "output_type": "display_data",
          "data": {
            "image/png": "[encoded data removed]",
            "text/plain": [
              "<Figure size 432x288 with 1 Axes>"
            ]
          },
          "metadata": {
            "needs_background": "light"
          }
        }
      ]
    },
    {
      "cell_type": "markdown",
      "metadata": {
        "id": "hlMeAq54WIOp"
      },
      "source": [
        "3. Гетероскедастичность"
      ]
    },
    {
      "cell_type": "code",
      "metadata": {
        "id": "kAL9OfaXnKFb"
      },
      "source": [
        "from scipy.stats import spearmanr"
      ],
      "execution_count": 139,
      "outputs": []
    },
    {
      "cell_type": "code",
      "metadata": {
        "id": "ESjixngqYOqf"
      },
      "source": [
        "rxy = spearmanr(data_3[0], data_3[1])[0]"
      ],
      "execution_count": 140,
      "outputs": []
    },
    {
      "cell_type": "code",
      "metadata": {
        "colab": {
          "base_uri": "https://localhost:8080/"
        },
        "id": "bW-CLDlZYicV",
        "outputId": "4b084622-f719-4e19-de9f-f6041d643ebf"
      },
      "source": [
        "rxy"
      ],
      "execution_count": 141,
      "outputs": [
        {
          "output_type": "execute_result",
          "data": {
            "text/plain": [
              "0.2661506150615061"
            ]
          },
          "metadata": {},
          "execution_count": 141
        }
      ]
    },
    {
      "cell_type": "code",
      "metadata": {
        "id": "Ue3bEWnZYTL1"
      },
      "source": [
        "T_get = np.abs(rxy) * (np.sqrt(len(data_3[0]) - 2)) / np.sqrt(1 - rxy ** 2)"
      ],
      "execution_count": 142,
      "outputs": []
    },
    {
      "cell_type": "code",
      "metadata": {
        "id": "eT_T9mimYgUn"
      },
      "source": [
        "t_crit = 1.9799"
      ],
      "execution_count": 143,
      "outputs": []
    },
    {
      "cell_type": "code",
      "metadata": {
        "colab": {
          "base_uri": "https://localhost:8080/"
        },
        "id": "wDaLYX1KYwTy",
        "outputId": "e1a7054f-ccb3-42ea-c796-d7735f678a78"
      },
      "source": [
        "T_get, t_crit"
      ],
      "execution_count": 144,
      "outputs": [
        {
          "output_type": "execute_result",
          "data": {
            "text/plain": [
              "(2.733344422239016, 1.9799)"
            ]
          },
          "metadata": {},
          "execution_count": 144
        }
      ]
    },
    {
      "cell_type": "code",
      "metadata": {
        "colab": {
          "base_uri": "https://localhost:8080/"
        },
        "id": "FSxHPPywYyoa",
        "outputId": "5b7b308c-aab1-4ed6-edcc-4e3ac98551e7"
      },
      "source": [
        "print(f'Работа с файлом 3, Спирмен:\\nПолученное Т-значение: {T_get}\\nКритическое: {t_crit}\\nГипотезу об отсутствии гетероскедастичности отвергаем.')"
      ],
      "execution_count": 145,
      "outputs": [
        {
          "output_type": "stream",
          "name": "stdout",
          "text": [
            "Работа с файлом 3, Спирмен:\n",
            "Полученное Т-значение: 2.733344422239016\n",
            "Критическое: 1.9799\n",
            "Гипотезу об отсутствии гетероскедастичности отвергаем.\n"
          ]
        }
      ]
    },
    {
      "cell_type": "code",
      "metadata": {
        "id": "_UJJGjRyZYTw"
      },
      "source": [
        "from statsmodels.stats.diagnostic import het_goldfeldquandt"
      ],
      "execution_count": 146,
      "outputs": []
    },
    {
      "cell_type": "code",
      "metadata": {
        "id": "VCcAOng2aGny"
      },
      "source": [
        "F_get = het_goldfeldquandt(data_3[1], np.array(data_3[0]).reshape(-1, 1), split=0.5)[0]"
      ],
      "execution_count": 147,
      "outputs": []
    },
    {
      "cell_type": "code",
      "metadata": {
        "id": "PlKCYAR8axsf"
      },
      "source": [
        "F_crit = 1.56"
      ],
      "execution_count": 148,
      "outputs": []
    },
    {
      "cell_type": "code",
      "metadata": {
        "colab": {
          "base_uri": "https://localhost:8080/"
        },
        "id": "CFRZFVR_cmPx",
        "outputId": "ab026c1e-771e-441b-aedc-00fc34a9578b"
      },
      "source": [
        "print(f'Работа с файлом 3, Гольфелд-Квандт:\\nПолученное F-значение: {F_get}\\nКритическое: {F_crit}\\nГипотезу об отсутствии гетероскедастичности отвергаем.')"
      ],
      "execution_count": 149,
      "outputs": [
        {
          "output_type": "stream",
          "name": "stdout",
          "text": [
            "Работа с файлом 3, Гольфелд-Квандт:\n",
            "Полученное F-значение: 4.529548622351583\n",
            "Критическое: 1.56\n",
            "Гипотезу об отсутствии гетероскедастичности отвергаем.\n"
          ]
        }
      ]
    },
    {
      "cell_type": "code",
      "metadata": {
        "colab": {
          "base_uri": "https://localhost:8080/"
        },
        "id": "UVYsXL2bc3-U",
        "outputId": "bf3e0e5a-7b1a-4792-9a08-1d33ee8dfe65"
      },
      "source": [
        "import scipy.stats as sps\n",
        "\n",
        "n = len(data_3[0])\n",
        "lin_model = sps.linregress(data_3[0], data_3[1])\n",
        "a,b = lin_model.slope, lin_model.intercept\n",
        "# оценка ср.кв. ошибки для a и b\n",
        "a_err, b_err = lin_model.stderr, lin_model.intercept_stderr\n",
        "# Доверительный интервал для alpha=5%\n",
        "a_conf = sps.t.interval(0.95, df = n-2, loc=a, scale=a_err)\n",
        "b_conf = sps.t.interval(0.95, df = n-2, loc=b, scale=b_err)\n",
        "\n",
        "fisher_crit = 254.32\n",
        "\n",
        "t_res_1 = np.abs(a / a_err) \n",
        "t_res_2 = np.abs(b / b_err)\n",
        "print('Работа с файлом 1:')\n",
        "print(f\"a = {a:0.4f}, α=5% [{a_conf[0]:0.4f} - {a_conf[1]:0.4f}], {importance(t_res_1, t_criteria(data_1[0]))}\")\n",
        "print(f\"b = {b:0.4f}, α=5% [{b_conf[0]:0.4f} - {b_conf[1]:0.4f}], {importance(t_res_2, t_criteria(data_1[0]))}\")\n",
        "\n",
        "print(f'Посчитанное F-значение: {fisher_criteria(lin_model.rvalue ** 2)}\\nКритическое значение: {fisher_crit}\\nУравнение неадекватно.')"
      ],
      "execution_count": 150,
      "outputs": [
        {
          "output_type": "stream",
          "name": "stdout",
          "text": [
            "Работа с файлом 1:\n",
            "a = 0.9032, α=5% [0.2561 - 1.5503], значим\n",
            "b = 2.6516, α=5% [-7.7622 - 13.0653], не значим\n",
            "Посчитанное F-значение: 7.673096945687003\n",
            "Критическое значение: 254.32\n",
            "Уравнение неадекватно.\n"
          ]
        }
      ]
    },
    {
      "cell_type": "code",
      "metadata": {
        "colab": {
          "base_uri": "https://localhost:8080/",
          "height": 350
        },
        "id": "AgLuQRFmd9yV",
        "outputId": "ba40064c-e400-4112-804b-42572b4d4284"
      },
      "source": [
        "sns.regplot(data_3[0], data_3[1])"
      ],
      "execution_count": 151,
      "outputs": [
        {
          "output_type": "stream",
          "name": "stderr",
          "text": [
            "/usr/local/lib/python3.7/dist-packages/seaborn/_decorators.py:43: FutureWarning: Pass the following variables as keyword args: x, y. From version 0.12, the only valid positional argument will be `data`, and passing other arguments without an explicit keyword will result in an error or misinterpretation.\n",
            "  FutureWarning\n"
          ]
        },
        {
          "output_type": "execute_result",
          "data": {
            "text/plain": [
              "<matplotlib.axes._subplots.AxesSubplot at 0x7eff268714d0>"
            ]
          },
          "metadata": {},
          "execution_count": 151
        },
        {
          "output_type": "display_data",
          "data": {
            "image/png": "[encoded data removed]",
            "text/plain": [
              "<Figure size 432x288 with 1 Axes>"
            ]
          },
          "metadata": {
            "needs_background": "light"
          }
        }
      ]
    }
  ]
}